{
 "cells": [
  {
   "cell_type": "code",
   "execution_count": 2,
   "id": "aa9d4fbc",
   "metadata": {},
   "outputs": [],
   "source": [
    "import numpy as np"
   ]
  },
  {
   "cell_type": "code",
   "execution_count": null,
   "id": "09c1c642",
   "metadata": {},
   "outputs": [
    {
     "name": "stdout",
     "output_type": "stream",
     "text": [
      "[[[0 0]\n",
      "  [0 1]\n",
      "  [0 2]\n",
      "  [0 3]\n",
      "  [0 4]]\n",
      "\n",
      " [[1 0]\n",
      "  [1 1]\n",
      "  [1 2]\n",
      "  [1 3]\n",
      "  [1 4]]\n",
      "\n",
      " [[2 0]\n",
      "  [2 1]\n",
      "  [2 2]\n",
      "  [2 3]\n",
      "  [2 4]]\n",
      "\n",
      " [[3 0]\n",
      "  [3 1]\n",
      "  [3 2]\n",
      "  [3 3]\n",
      "  [3 4]]]\n"
     ]
    }
   ],
   "source": [
    "array_2d = np.array([[(i, j) for j in range(2000)] for i in range(20000)])\n",
    "# Simpler way using np.indices\n",
    "array_2d = np.indices((4, 5)).transpose(1, 2, 0)\n",
    "print(array_2d)"
   ]
  },
  {
   "cell_type": "code",
   "execution_count": 3,
   "id": "6ea4f52e",
   "metadata": {},
   "outputs": [
    {
     "data": {
      "text/plain": [
       "array([[[0, 0, 0, 0],\n",
       "        [1, 1, 1, 1],\n",
       "        [2, 2, 2, 2],\n",
       "        [3, 3, 3, 3],\n",
       "        [4, 4, 4, 4]],\n",
       "\n",
       "       [[0, 1, 2, 3],\n",
       "        [0, 1, 2, 3],\n",
       "        [0, 1, 2, 3],\n",
       "        [0, 1, 2, 3],\n",
       "        [0, 1, 2, 3]]])"
      ]
     },
     "execution_count": 3,
     "metadata": {},
     "output_type": "execute_result"
    }
   ],
   "source": [
    "indices = np.indices((5,4))\n",
    "#array_2d = np.array([[(i, j) for j in range(2000)] for i in range(20000)])\n",
    "indices\n"
   ]
  },
  {
   "cell_type": "code",
   "execution_count": 92,
   "id": "6f5b350e",
   "metadata": {},
   "outputs": [],
   "source": [
    "u,v = 115,107 # center\n",
    "r = 50 # radius"
   ]
  },
  {
   "cell_type": "code",
   "execution_count": 93,
   "id": "3bb45fb1",
   "metadata": {},
   "outputs": [
    {
     "name": "stderr",
     "output_type": "stream",
     "text": [
      "C:\\Users\\rrrad\\AppData\\Local\\Temp\\ipykernel_9008\\1013446361.py:3: RuntimeWarning: divide by zero encountered in divide\n",
      "  indices_x2 = u + r**2/distances * (indices_x1 - u)\n",
      "C:\\Users\\rrrad\\AppData\\Local\\Temp\\ipykernel_9008\\1013446361.py:3: RuntimeWarning: invalid value encountered in multiply\n",
      "  indices_x2 = u + r**2/distances * (indices_x1 - u)\n",
      "C:\\Users\\rrrad\\AppData\\Local\\Temp\\ipykernel_9008\\1013446361.py:5: RuntimeWarning: divide by zero encountered in divide\n",
      "  indices_y2 = v + r**2/distances * (indices_y1 - v)\n",
      "C:\\Users\\rrrad\\AppData\\Local\\Temp\\ipykernel_9008\\1013446361.py:5: RuntimeWarning: invalid value encountered in multiply\n",
      "  indices_y2 = v + r**2/distances * (indices_y1 - v)\n"
     ]
    }
   ],
   "source": [
    "indices_y1,indices_x1 = indices\n",
    "distances = (indices_x1 - u)**2 + (indices_y1 - v)**2 # CP^2\n",
    "indices_x2 = u + r**2/distances * (indices_x1 - u)\n",
    "\n",
    "indices_y2 = v + r**2/distances * (indices_y1 - v)"
   ]
  },
  {
   "cell_type": "code",
   "execution_count": null,
   "id": "3cf2162a",
   "metadata": {},
   "outputs": [],
   "source": [
    "indices_y2"
   ]
  },
  {
   "cell_type": "code",
   "execution_count": null,
   "id": "0ed04a81",
   "metadata": {},
   "outputs": [
    {
     "name": "stderr",
     "output_type": "stream",
     "text": [
      "C:\\Users\\rrrad\\AppData\\Local\\Temp\\ipykernel_9008\\4172567625.py:1: RuntimeWarning: divide by zero encountered in divide\n",
      "  indices_x2 = u + r**2/distances * (indices_x1 - u)\n",
      "C:\\Users\\rrrad\\AppData\\Local\\Temp\\ipykernel_9008\\4172567625.py:1: RuntimeWarning: invalid value encountered in multiply\n",
      "  indices_x2 = u + r**2/distances * (indices_x1 - u)\n"
     ]
    }
   ],
   "source": []
  },
  {
   "cell_type": "code",
   "execution_count": 49,
   "id": "74dee6f1",
   "metadata": {},
   "outputs": [
    {
     "data": {
      "text/plain": [
       "np.int64(1)"
      ]
     },
     "execution_count": 49,
     "metadata": {},
     "output_type": "execute_result"
    }
   ],
   "source": [
    "indices_x1[51,50]-u"
   ]
  },
  {
   "cell_type": "code",
   "execution_count": 78,
   "id": "a9ef9418",
   "metadata": {},
   "outputs": [
    {
     "data": {
      "text/plain": [
       "array([[49.        , 49.00020404, 49.00083264, ..., 50.99808877,\n",
       "        50.99916736, 50.99979596],\n",
       "       [48.97980004, 48.97959184, 48.97980871, ..., 51.01952278,\n",
       "        51.02019129, 51.02040816],\n",
       "       [48.95920067, 48.95855473, 48.95833333, ..., 51.04143585,\n",
       "        51.04166667, 51.04144527],\n",
       "       ...,\n",
       "       [48.93820344, 48.93709328, 48.93640594, ..., 51.06382979,\n",
       "        51.06359406, 51.06290672],\n",
       "       [48.95920067, 48.95855473, 48.95833333, ..., 51.04143585,\n",
       "        51.04166667, 51.04144527],\n",
       "       [48.97980004, 48.97959184, 48.97980871, ..., 51.01952278,\n",
       "        51.02019129, 51.02040816]], shape=(100, 100))"
      ]
     },
     "execution_count": 78,
     "metadata": {},
     "output_type": "execute_result"
    }
   ],
   "source": [
    "indices_x2"
   ]
  },
  {
   "cell_type": "code",
   "execution_count": 68,
   "id": "a3008398",
   "metadata": {},
   "outputs": [
    {
     "data": {
      "text/plain": [
       "np.int64(50)"
      ]
     },
     "execution_count": 68,
     "metadata": {},
     "output_type": "execute_result"
    }
   ],
   "source": [
    "distances[0,0]"
   ]
  },
  {
   "cell_type": "code",
   "execution_count": 25,
   "id": "54ee677f",
   "metadata": {},
   "outputs": [
    {
     "data": {
      "text/plain": [
       "array([   0,    1,    2, ..., 1997, 1998, 1999], shape=(2000,))"
      ]
     },
     "execution_count": 25,
     "metadata": {},
     "output_type": "execute_result"
    }
   ],
   "source": [
    "indices_y1[0]"
   ]
  },
  {
   "cell_type": "code",
   "execution_count": 94,
   "id": "b86b25c1",
   "metadata": {},
   "outputs": [
    {
     "name": "stdout",
     "output_type": "stream",
     "text": [
      "(235, 214, 3)\n"
     ]
    }
   ],
   "source": [
    "from PIL import Image\n",
    "import numpy as np\n",
    "\n",
    "# Load image and convert to numpy array\n",
    "image = Image.open('image.png')\n",
    "image_array = np.array(image)\n",
    "print(image_array.shape) # reversed shape"
   ]
  },
  {
   "cell_type": "code",
   "execution_count": 82,
   "id": "58644fad",
   "metadata": {},
   "outputs": [
    {
     "data": {
      "text/plain": [
       "array([[[255, 255, 255],\n",
       "        [255, 255, 255],\n",
       "        [255, 255, 255],\n",
       "        ...,\n",
       "        [255, 255, 255],\n",
       "        [255, 255, 255],\n",
       "        [255, 255, 255]],\n",
       "\n",
       "       [[255, 255, 255],\n",
       "        [255, 255, 255],\n",
       "        [255, 255, 255],\n",
       "        ...,\n",
       "        [255, 255, 255],\n",
       "        [255, 255, 255],\n",
       "        [255, 255, 255]],\n",
       "\n",
       "       [[255, 255, 255],\n",
       "        [255, 255, 255],\n",
       "        [255, 255, 255],\n",
       "        ...,\n",
       "        [255, 255, 255],\n",
       "        [255, 255, 255],\n",
       "        [255, 255, 255]],\n",
       "\n",
       "       ...,\n",
       "\n",
       "       [[255, 255, 255],\n",
       "        [255, 255, 255],\n",
       "        [255, 255, 255],\n",
       "        ...,\n",
       "        [255, 255, 255],\n",
       "        [255, 255, 255],\n",
       "        [255, 255, 255]],\n",
       "\n",
       "       [[255, 255, 255],\n",
       "        [255, 255, 255],\n",
       "        [255, 255, 255],\n",
       "        ...,\n",
       "        [255, 255, 255],\n",
       "        [255, 255, 255],\n",
       "        [255, 255, 255]],\n",
       "\n",
       "       [[255, 255, 255],\n",
       "        [255, 255, 255],\n",
       "        [255, 255, 255],\n",
       "        ...,\n",
       "        [255, 255, 255],\n",
       "        [255, 255, 255],\n",
       "        [255, 255, 255]]], shape=(235, 214, 3), dtype=uint8)"
      ]
     },
     "execution_count": 82,
     "metadata": {},
     "output_type": "execute_result"
    }
   ],
   "source": [
    "from scipy.ndimage import map_coordinates\n",
    "\n",
    "# Prepare coordinates for mapping\n",
    "coords = np.vstack([indices_y2.ravel(), indices_x2.ravel()])\n",
    "\n",
    "# Apply mapping for each channel\n",
    "warped = np.zeros((100, 100, image_array.shape[2]), dtype=image_array.dtype)\n",
    "for c in range(image_array.shape[2]):\n",
    "    warped[..., c] = map_coordinates(image_array[..., c], coords, order=1, mode='reflect').reshape(100, 100)\n",
    "\n",
    "warped"
   ]
  },
  {
   "cell_type": "code",
   "execution_count": 100,
   "id": "6b18cb01",
   "metadata": {},
   "outputs": [
    {
     "ename": "TypingError",
     "evalue": "Failed in nopython mode pipeline (step: nopython frontend)\n\u001b[1m\u001b[1m\u001b[1mNo implementation of function Function(<built-in function getitem>) found for signature:\n \n >>> getitem(readonly array(uint8, 3d, C), Tuple(float64, float64, Literal[int](0)))\n \nThere are 22 candidate implementations:\n\u001b[1m    - Of which 20 did not match due to:\n    Overload of function 'getitem': File: <numerous>: Line N/A.\n      With argument(s): '(readonly array(uint8, 3d, C), Tuple(float64, float64, int64))':\u001b[0m\n\u001b[1m     No match.\u001b[0m\n\u001b[1m    - Of which 1 did not match due to:\n    Overload in function 'GetItemBuffer.generic': File: numba\\core\\typing\\arraydecl.py: Line 211.\n      With argument(s): '(readonly array(uint8, 3d, C), Tuple(float64, float64, int64))':\u001b[0m\n\u001b[1m     Rejected as the implementation raised a specific error:\n       NumbaTypeError: \u001b[1mUnsupported array index type float64 in Tuple(float64, float64, int64)\u001b[0m\u001b[0m\n  raised from C:\\Users\\rrrad\\AppData\\Roaming\\Python\\Python313\\site-packages\\numba\\core\\typing\\arraydecl.py:104\n\u001b[1m    - Of which 1 did not match due to:\n    Overload in function 'GetItemBuffer.generic': File: numba\\core\\typing\\arraydecl.py: Line 211.\n      With argument(s): '(readonly array(uint8, 3d, C), Tuple(float64, float64, Literal[int](0)))':\u001b[0m\n\u001b[1m     Rejected as the implementation raised a specific error:\n       NumbaTypeError: \u001b[1mUnsupported array index type float64 in Tuple(float64, float64, Literal[int](0))\u001b[0m\u001b[0m\n  raised from C:\\Users\\rrrad\\AppData\\Roaming\\Python\\Python313\\site-packages\\numba\\core\\typing\\arraydecl.py:104\n\u001b[0m\n\u001b[0m\u001b[1mDuring: typing of intrinsic-call at C:\\Users\\rrrad\\AppData\\Local\\Temp\\ipykernel_9008\\2324517020.py (4)\u001b[0m\n\u001b[1m\nFile \"..\\..\\..\\..\\AppData\\Local\\Temp\\ipykernel_9008\\2324517020.py\", line 4:\u001b[0m\n\u001b[1m<source missing, REPL/exec in use?>\u001b[0m\n\n\u001b[0m\u001b[1mDuring: Pass nopython_type_inference\u001b[0m",
     "output_type": "error",
     "traceback": [
      "\u001b[31m---------------------------------------------------------------------------\u001b[39m",
      "\u001b[31mTypingError\u001b[39m                               Traceback (most recent call last)",
      "\u001b[36mCell\u001b[39m\u001b[36m \u001b[39m\u001b[32mIn[100]\u001b[39m\u001b[32m, line 6\u001b[39m\n\u001b[32m      2\u001b[39m \u001b[38;5;129m@vectorize\u001b[39m\n\u001b[32m      3\u001b[39m \u001b[38;5;28;01mdef\u001b[39;00m\u001b[38;5;250m \u001b[39m\u001b[34mmyfunc\u001b[39m(indice_x,indice_y):\n\u001b[32m      4\u001b[39m     \u001b[38;5;28;01mreturn\u001b[39;00m image_array[indice_y,indice_x,\u001b[32m0\u001b[39m]\n\u001b[32m----> \u001b[39m\u001b[32m6\u001b[39m \u001b[43mmyfunc\u001b[49m\u001b[43m(\u001b[49m\u001b[43mindices_x2\u001b[49m\u001b[43m,\u001b[49m\u001b[43m \u001b[49m\u001b[43mindices_y2\u001b[49m\u001b[43m)\u001b[49m\n",
      "\u001b[36mFile \u001b[39m\u001b[32m~\\AppData\\Roaming\\Python\\Python313\\site-packages\\numba\\np\\ufunc\\dufunc.py:288\u001b[39m, in \u001b[36mDUFunc.__call__\u001b[39m\u001b[34m(self, *args, **kws)\u001b[39m\n\u001b[32m    286\u001b[39m             \u001b[38;5;28;01mreturn\u001b[39;00m output\n\u001b[32m    287\u001b[39m \u001b[38;5;28;01melse\u001b[39;00m:\n\u001b[32m--> \u001b[39m\u001b[32m288\u001b[39m     \u001b[38;5;28;01mreturn\u001b[39;00m \u001b[38;5;28;43msuper\u001b[39;49m\u001b[43m(\u001b[49m\u001b[43m)\u001b[49m\u001b[43m.\u001b[49m\u001b[34;43m__call__\u001b[39;49m\u001b[43m(\u001b[49m\u001b[43m*\u001b[49m\u001b[43margs\u001b[49m\u001b[43m,\u001b[49m\u001b[43m \u001b[49m\u001b[43m*\u001b[49m\u001b[43m*\u001b[49m\u001b[43mkws\u001b[49m\u001b[43m)\u001b[49m\n",
      "\u001b[36mFile \u001b[39m\u001b[32m~\\AppData\\Roaming\\Python\\Python313\\site-packages\\numba\\np\\ufunc\\dufunc.py:319\u001b[39m, in \u001b[36mDUFunc._compile_for_args\u001b[39m\u001b[34m(self, *args, **kws)\u001b[39m\n\u001b[32m    317\u001b[39m         argty = numpy_support.map_arrayscalar_type(arg)\n\u001b[32m    318\u001b[39m     argtys.append(argty)\n\u001b[32m--> \u001b[39m\u001b[32m319\u001b[39m \u001b[38;5;28;01mreturn\u001b[39;00m \u001b[38;5;28;43mself\u001b[39;49m\u001b[43m.\u001b[49m\u001b[43m_compile_for_argtys\u001b[49m\u001b[43m(\u001b[49m\u001b[38;5;28;43mtuple\u001b[39;49m\u001b[43m(\u001b[49m\u001b[43margtys\u001b[49m\u001b[43m)\u001b[49m\u001b[43m)\u001b[49m\n",
      "\u001b[36mFile \u001b[39m\u001b[32m~\\AppData\\Roaming\\Python\\Python313\\site-packages\\numba\\core\\compiler_lock.py:35\u001b[39m, in \u001b[36m_CompilerLock.__call__.<locals>._acquire_compile_lock\u001b[39m\u001b[34m(*args, **kwargs)\u001b[39m\n\u001b[32m     32\u001b[39m \u001b[38;5;129m@functools\u001b[39m.wraps(func)\n\u001b[32m     33\u001b[39m \u001b[38;5;28;01mdef\u001b[39;00m\u001b[38;5;250m \u001b[39m\u001b[34m_acquire_compile_lock\u001b[39m(*args, **kwargs):\n\u001b[32m     34\u001b[39m     \u001b[38;5;28;01mwith\u001b[39;00m \u001b[38;5;28mself\u001b[39m:\n\u001b[32m---> \u001b[39m\u001b[32m35\u001b[39m         \u001b[38;5;28;01mreturn\u001b[39;00m \u001b[43mfunc\u001b[49m\u001b[43m(\u001b[49m\u001b[43m*\u001b[49m\u001b[43margs\u001b[49m\u001b[43m,\u001b[49m\u001b[43m \u001b[49m\u001b[43m*\u001b[49m\u001b[43m*\u001b[49m\u001b[43mkwargs\u001b[49m\u001b[43m)\u001b[49m\n",
      "\u001b[36mFile \u001b[39m\u001b[32m~\\AppData\\Roaming\\Python\\Python313\\site-packages\\numba\\np\\ufunc\\dufunc.py:347\u001b[39m, in \u001b[36mDUFunc._compile_for_argtys\u001b[39m\u001b[34m(self, argtys, return_type)\u001b[39m\n\u001b[32m    344\u001b[39m         warnings.warn(msg, errors.NumbaWarning)\n\u001b[32m    345\u001b[39m         \u001b[38;5;28;01mreturn\u001b[39;00m cres\n\u001b[32m--> \u001b[39m\u001b[32m347\u001b[39m cres, argtys, return_type = \u001b[43mufuncbuilder\u001b[49m\u001b[43m.\u001b[49m\u001b[43m_compile_element_wise_function\u001b[49m\u001b[43m(\u001b[49m\n\u001b[32m    348\u001b[39m \u001b[43m    \u001b[49m\u001b[38;5;28;43mself\u001b[39;49m\u001b[43m.\u001b[49m\u001b[43m_dispatcher\u001b[49m\u001b[43m,\u001b[49m\u001b[43m \u001b[49m\u001b[38;5;28;43mself\u001b[39;49m\u001b[43m.\u001b[49m\u001b[43mtargetoptions\u001b[49m\u001b[43m,\u001b[49m\u001b[43m \u001b[49m\u001b[43msig\u001b[49m\u001b[43m)\u001b[49m\n\u001b[32m    349\u001b[39m actual_sig = ufuncbuilder._finalize_ufunc_signature(\n\u001b[32m    350\u001b[39m     cres, argtys, return_type)\n\u001b[32m    351\u001b[39m dtypenums, ptr, env = ufuncbuilder._build_element_wise_ufunc_wrapper(\n\u001b[32m    352\u001b[39m     cres, actual_sig)\n",
      "\u001b[36mFile \u001b[39m\u001b[32m~\\AppData\\Roaming\\Python\\Python313\\site-packages\\numba\\np\\ufunc\\ufuncbuilder.py:175\u001b[39m, in \u001b[36m_compile_element_wise_function\u001b[39m\u001b[34m(nb_func, targetoptions, sig)\u001b[39m\n\u001b[32m    172\u001b[39m \u001b[38;5;28;01mdef\u001b[39;00m\u001b[38;5;250m \u001b[39m\u001b[34m_compile_element_wise_function\u001b[39m(nb_func, targetoptions, sig):\n\u001b[32m    173\u001b[39m     \u001b[38;5;66;03m# Do compilation\u001b[39;00m\n\u001b[32m    174\u001b[39m     \u001b[38;5;66;03m# Return CompileResult to test\u001b[39;00m\n\u001b[32m--> \u001b[39m\u001b[32m175\u001b[39m     cres = \u001b[43mnb_func\u001b[49m\u001b[43m.\u001b[49m\u001b[43mcompile\u001b[49m\u001b[43m(\u001b[49m\u001b[43msig\u001b[49m\u001b[43m,\u001b[49m\u001b[43m \u001b[49m\u001b[43m*\u001b[49m\u001b[43m*\u001b[49m\u001b[43mtargetoptions\u001b[49m\u001b[43m)\u001b[49m\n\u001b[32m    176\u001b[39m     args, return_type = sigutils.normalize_signature(sig)\n\u001b[32m    177\u001b[39m     \u001b[38;5;28;01mreturn\u001b[39;00m cres, args, return_type\n",
      "\u001b[36mFile \u001b[39m\u001b[32m~\\AppData\\Roaming\\Python\\Python313\\site-packages\\numba\\np\\ufunc\\ufuncbuilder.py:123\u001b[39m, in \u001b[36mUFuncDispatcher.compile\u001b[39m\u001b[34m(self, sig, locals, **targetoptions)\u001b[39m\n\u001b[32m    118\u001b[39m \u001b[38;5;66;03m# Disable loop lifting\u001b[39;00m\n\u001b[32m    119\u001b[39m \u001b[38;5;66;03m# The feature requires a real\u001b[39;00m\n\u001b[32m    120\u001b[39m \u001b[38;5;66;03m#  python function\u001b[39;00m\n\u001b[32m    121\u001b[39m flags.enable_looplift = \u001b[38;5;28;01mFalse\u001b[39;00m\n\u001b[32m--> \u001b[39m\u001b[32m123\u001b[39m \u001b[38;5;28;01mreturn\u001b[39;00m \u001b[38;5;28;43mself\u001b[39;49m\u001b[43m.\u001b[49m\u001b[43m_compile_core\u001b[49m\u001b[43m(\u001b[49m\u001b[43msig\u001b[49m\u001b[43m,\u001b[49m\u001b[43m \u001b[49m\u001b[43mflags\u001b[49m\u001b[43m,\u001b[49m\u001b[43m \u001b[49m\u001b[38;5;28;43mlocals\u001b[39;49m\u001b[43m)\u001b[49m\n",
      "\u001b[36mFile \u001b[39m\u001b[32m~\\AppData\\Roaming\\Python\\Python313\\site-packages\\numba\\np\\ufunc\\ufuncbuilder.py:156\u001b[39m, in \u001b[36mUFuncDispatcher._compile_core\u001b[39m\u001b[34m(self, sig, flags, locals)\u001b[39m\n\u001b[32m    154\u001b[39m \u001b[38;5;66;03m# Compile\u001b[39;00m\n\u001b[32m    155\u001b[39m args, return_type = sigutils.normalize_signature(sig)\n\u001b[32m--> \u001b[39m\u001b[32m156\u001b[39m cres = \u001b[43mcompiler\u001b[49m\u001b[43m.\u001b[49m\u001b[43mcompile_extra\u001b[49m\u001b[43m(\u001b[49m\u001b[43mtypingctx\u001b[49m\u001b[43m,\u001b[49m\u001b[43m \u001b[49m\u001b[43mtargetctx\u001b[49m\u001b[43m,\u001b[49m\n\u001b[32m    157\u001b[39m \u001b[43m                              \u001b[49m\u001b[38;5;28;43mself\u001b[39;49m\u001b[43m.\u001b[49m\u001b[43mpy_func\u001b[49m\u001b[43m,\u001b[49m\u001b[43m \u001b[49m\u001b[43margs\u001b[49m\u001b[43m=\u001b[49m\u001b[43margs\u001b[49m\u001b[43m,\u001b[49m\n\u001b[32m    158\u001b[39m \u001b[43m                              \u001b[49m\u001b[43mreturn_type\u001b[49m\u001b[43m=\u001b[49m\u001b[43mreturn_type\u001b[49m\u001b[43m,\u001b[49m\n\u001b[32m    159\u001b[39m \u001b[43m                              \u001b[49m\u001b[43mflags\u001b[49m\u001b[43m=\u001b[49m\u001b[43mflags\u001b[49m\u001b[43m,\u001b[49m\u001b[43m \u001b[49m\u001b[38;5;28;43mlocals\u001b[39;49m\u001b[43m=\u001b[49m\u001b[38;5;28;43mlocals\u001b[39;49m\u001b[43m)\u001b[49m\n\u001b[32m    161\u001b[39m \u001b[38;5;66;03m# cache lookup failed before so safe to save\u001b[39;00m\n\u001b[32m    162\u001b[39m \u001b[38;5;28mself\u001b[39m.cache.save_overload(sig, cres)\n",
      "\u001b[36mFile \u001b[39m\u001b[32m~\\AppData\\Roaming\\Python\\Python313\\site-packages\\numba\\core\\compiler.py:739\u001b[39m, in \u001b[36mcompile_extra\u001b[39m\u001b[34m(typingctx, targetctx, func, args, return_type, flags, locals, library, pipeline_class)\u001b[39m\n\u001b[32m    715\u001b[39m \u001b[38;5;250m\u001b[39m\u001b[33;03m\"\"\"Compiler entry point\u001b[39;00m\n\u001b[32m    716\u001b[39m \n\u001b[32m    717\u001b[39m \u001b[33;03mParameter\u001b[39;00m\n\u001b[32m   (...)\u001b[39m\u001b[32m    735\u001b[39m \u001b[33;03m    compiler pipeline\u001b[39;00m\n\u001b[32m    736\u001b[39m \u001b[33;03m\"\"\"\u001b[39;00m\n\u001b[32m    737\u001b[39m pipeline = pipeline_class(typingctx, targetctx, library,\n\u001b[32m    738\u001b[39m                           args, return_type, flags, \u001b[38;5;28mlocals\u001b[39m)\n\u001b[32m--> \u001b[39m\u001b[32m739\u001b[39m \u001b[38;5;28;01mreturn\u001b[39;00m \u001b[43mpipeline\u001b[49m\u001b[43m.\u001b[49m\u001b[43mcompile_extra\u001b[49m\u001b[43m(\u001b[49m\u001b[43mfunc\u001b[49m\u001b[43m)\u001b[49m\n",
      "\u001b[36mFile \u001b[39m\u001b[32m~\\AppData\\Roaming\\Python\\Python313\\site-packages\\numba\\core\\compiler.py:439\u001b[39m, in \u001b[36mCompilerBase.compile_extra\u001b[39m\u001b[34m(self, func)\u001b[39m\n\u001b[32m    437\u001b[39m \u001b[38;5;28mself\u001b[39m.state.lifted = ()\n\u001b[32m    438\u001b[39m \u001b[38;5;28mself\u001b[39m.state.lifted_from = \u001b[38;5;28;01mNone\u001b[39;00m\n\u001b[32m--> \u001b[39m\u001b[32m439\u001b[39m \u001b[38;5;28;01mreturn\u001b[39;00m \u001b[38;5;28;43mself\u001b[39;49m\u001b[43m.\u001b[49m\u001b[43m_compile_bytecode\u001b[49m\u001b[43m(\u001b[49m\u001b[43m)\u001b[49m\n",
      "\u001b[36mFile \u001b[39m\u001b[32m~\\AppData\\Roaming\\Python\\Python313\\site-packages\\numba\\core\\compiler.py:505\u001b[39m, in \u001b[36mCompilerBase._compile_bytecode\u001b[39m\u001b[34m(self)\u001b[39m\n\u001b[32m    501\u001b[39m \u001b[38;5;250m\u001b[39m\u001b[33;03m\"\"\"\u001b[39;00m\n\u001b[32m    502\u001b[39m \u001b[33;03mPopulate and run pipeline for bytecode input\u001b[39;00m\n\u001b[32m    503\u001b[39m \u001b[33;03m\"\"\"\u001b[39;00m\n\u001b[32m    504\u001b[39m \u001b[38;5;28;01massert\u001b[39;00m \u001b[38;5;28mself\u001b[39m.state.func_ir \u001b[38;5;129;01mis\u001b[39;00m \u001b[38;5;28;01mNone\u001b[39;00m\n\u001b[32m--> \u001b[39m\u001b[32m505\u001b[39m \u001b[38;5;28;01mreturn\u001b[39;00m \u001b[38;5;28;43mself\u001b[39;49m\u001b[43m.\u001b[49m\u001b[43m_compile_core\u001b[49m\u001b[43m(\u001b[49m\u001b[43m)\u001b[49m\n",
      "\u001b[36mFile \u001b[39m\u001b[32m~\\AppData\\Roaming\\Python\\Python313\\site-packages\\numba\\core\\compiler.py:484\u001b[39m, in \u001b[36mCompilerBase._compile_core\u001b[39m\u001b[34m(self)\u001b[39m\n\u001b[32m    482\u001b[39m         \u001b[38;5;28mself\u001b[39m.state.status.fail_reason = e\n\u001b[32m    483\u001b[39m         \u001b[38;5;28;01mif\u001b[39;00m is_final_pipeline:\n\u001b[32m--> \u001b[39m\u001b[32m484\u001b[39m             \u001b[38;5;28;01mraise\u001b[39;00m e\n\u001b[32m    485\u001b[39m \u001b[38;5;28;01melse\u001b[39;00m:\n\u001b[32m    486\u001b[39m     \u001b[38;5;28;01mraise\u001b[39;00m CompilerError(\u001b[33m\"\u001b[39m\u001b[33mAll available pipelines exhausted\u001b[39m\u001b[33m\"\u001b[39m)\n",
      "\u001b[36mFile \u001b[39m\u001b[32m~\\AppData\\Roaming\\Python\\Python313\\site-packages\\numba\\core\\compiler.py:473\u001b[39m, in \u001b[36mCompilerBase._compile_core\u001b[39m\u001b[34m(self)\u001b[39m\n\u001b[32m    471\u001b[39m res = \u001b[38;5;28;01mNone\u001b[39;00m\n\u001b[32m    472\u001b[39m \u001b[38;5;28;01mtry\u001b[39;00m:\n\u001b[32m--> \u001b[39m\u001b[32m473\u001b[39m     \u001b[43mpm\u001b[49m\u001b[43m.\u001b[49m\u001b[43mrun\u001b[49m\u001b[43m(\u001b[49m\u001b[38;5;28;43mself\u001b[39;49m\u001b[43m.\u001b[49m\u001b[43mstate\u001b[49m\u001b[43m)\u001b[49m\n\u001b[32m    474\u001b[39m     \u001b[38;5;28;01mif\u001b[39;00m \u001b[38;5;28mself\u001b[39m.state.cr \u001b[38;5;129;01mis\u001b[39;00m \u001b[38;5;129;01mnot\u001b[39;00m \u001b[38;5;28;01mNone\u001b[39;00m:\n\u001b[32m    475\u001b[39m         \u001b[38;5;28;01mbreak\u001b[39;00m\n",
      "\u001b[36mFile \u001b[39m\u001b[32m~\\AppData\\Roaming\\Python\\Python313\\site-packages\\numba\\core\\compiler_machinery.py:367\u001b[39m, in \u001b[36mPassManager.run\u001b[39m\u001b[34m(self, state)\u001b[39m\n\u001b[32m    364\u001b[39m msg = \u001b[33m\"\u001b[39m\u001b[33mFailed in \u001b[39m\u001b[38;5;132;01m%s\u001b[39;00m\u001b[33m mode pipeline (step: \u001b[39m\u001b[38;5;132;01m%s\u001b[39;00m\u001b[33m)\u001b[39m\u001b[33m\"\u001b[39m % \\\n\u001b[32m    365\u001b[39m     (\u001b[38;5;28mself\u001b[39m.pipeline_name, pass_desc)\n\u001b[32m    366\u001b[39m patched_exception = \u001b[38;5;28mself\u001b[39m._patch_error(msg, e)\n\u001b[32m--> \u001b[39m\u001b[32m367\u001b[39m \u001b[38;5;28;01mraise\u001b[39;00m patched_exception\n",
      "\u001b[36mFile \u001b[39m\u001b[32m~\\AppData\\Roaming\\Python\\Python313\\site-packages\\numba\\core\\compiler_machinery.py:356\u001b[39m, in \u001b[36mPassManager.run\u001b[39m\u001b[34m(self, state)\u001b[39m\n\u001b[32m    354\u001b[39m pass_inst = _pass_registry.get(pss).pass_inst\n\u001b[32m    355\u001b[39m \u001b[38;5;28;01mif\u001b[39;00m \u001b[38;5;28misinstance\u001b[39m(pass_inst, CompilerPass):\n\u001b[32m--> \u001b[39m\u001b[32m356\u001b[39m     \u001b[38;5;28;43mself\u001b[39;49m\u001b[43m.\u001b[49m\u001b[43m_runPass\u001b[49m\u001b[43m(\u001b[49m\u001b[43midx\u001b[49m\u001b[43m,\u001b[49m\u001b[43m \u001b[49m\u001b[43mpass_inst\u001b[49m\u001b[43m,\u001b[49m\u001b[43m \u001b[49m\u001b[43mstate\u001b[49m\u001b[43m)\u001b[49m\n\u001b[32m    357\u001b[39m \u001b[38;5;28;01melse\u001b[39;00m:\n\u001b[32m    358\u001b[39m     \u001b[38;5;28;01mraise\u001b[39;00m \u001b[38;5;167;01mBaseException\u001b[39;00m(\u001b[33m\"\u001b[39m\u001b[33mLegacy pass in use\u001b[39m\u001b[33m\"\u001b[39m)\n",
      "\u001b[36mFile \u001b[39m\u001b[32m~\\AppData\\Roaming\\Python\\Python313\\site-packages\\numba\\core\\compiler_lock.py:35\u001b[39m, in \u001b[36m_CompilerLock.__call__.<locals>._acquire_compile_lock\u001b[39m\u001b[34m(*args, **kwargs)\u001b[39m\n\u001b[32m     32\u001b[39m \u001b[38;5;129m@functools\u001b[39m.wraps(func)\n\u001b[32m     33\u001b[39m \u001b[38;5;28;01mdef\u001b[39;00m\u001b[38;5;250m \u001b[39m\u001b[34m_acquire_compile_lock\u001b[39m(*args, **kwargs):\n\u001b[32m     34\u001b[39m     \u001b[38;5;28;01mwith\u001b[39;00m \u001b[38;5;28mself\u001b[39m:\n\u001b[32m---> \u001b[39m\u001b[32m35\u001b[39m         \u001b[38;5;28;01mreturn\u001b[39;00m \u001b[43mfunc\u001b[49m\u001b[43m(\u001b[49m\u001b[43m*\u001b[49m\u001b[43margs\u001b[49m\u001b[43m,\u001b[49m\u001b[43m \u001b[49m\u001b[43m*\u001b[49m\u001b[43m*\u001b[49m\u001b[43mkwargs\u001b[49m\u001b[43m)\u001b[49m\n",
      "\u001b[36mFile \u001b[39m\u001b[32m~\\AppData\\Roaming\\Python\\Python313\\site-packages\\numba\\core\\compiler_machinery.py:311\u001b[39m, in \u001b[36mPassManager._runPass\u001b[39m\u001b[34m(self, index, pss, internal_state)\u001b[39m\n\u001b[32m    309\u001b[39m     mutated |= check(pss.run_initialization, internal_state)\n\u001b[32m    310\u001b[39m \u001b[38;5;28;01mwith\u001b[39;00m SimpleTimer() \u001b[38;5;28;01mas\u001b[39;00m pass_time:\n\u001b[32m--> \u001b[39m\u001b[32m311\u001b[39m     mutated |= \u001b[43mcheck\u001b[49m\u001b[43m(\u001b[49m\u001b[43mpss\u001b[49m\u001b[43m.\u001b[49m\u001b[43mrun_pass\u001b[49m\u001b[43m,\u001b[49m\u001b[43m \u001b[49m\u001b[43minternal_state\u001b[49m\u001b[43m)\u001b[49m\n\u001b[32m    312\u001b[39m \u001b[38;5;28;01mwith\u001b[39;00m SimpleTimer() \u001b[38;5;28;01mas\u001b[39;00m finalize_time:\n\u001b[32m    313\u001b[39m     mutated |= check(pss.run_finalizer, internal_state)\n",
      "\u001b[36mFile \u001b[39m\u001b[32m~\\AppData\\Roaming\\Python\\Python313\\site-packages\\numba\\core\\compiler_machinery.py:272\u001b[39m, in \u001b[36mPassManager._runPass.<locals>.check\u001b[39m\u001b[34m(func, compiler_state)\u001b[39m\n\u001b[32m    271\u001b[39m \u001b[38;5;28;01mdef\u001b[39;00m\u001b[38;5;250m \u001b[39m\u001b[34mcheck\u001b[39m(func, compiler_state):\n\u001b[32m--> \u001b[39m\u001b[32m272\u001b[39m     mangled = \u001b[43mfunc\u001b[49m\u001b[43m(\u001b[49m\u001b[43mcompiler_state\u001b[49m\u001b[43m)\u001b[49m\n\u001b[32m    273\u001b[39m     \u001b[38;5;28;01mif\u001b[39;00m mangled \u001b[38;5;129;01mnot\u001b[39;00m \u001b[38;5;129;01min\u001b[39;00m (\u001b[38;5;28;01mTrue\u001b[39;00m, \u001b[38;5;28;01mFalse\u001b[39;00m):\n\u001b[32m    274\u001b[39m         msg = (\u001b[33m\"\u001b[39m\u001b[33mCompilerPass implementations should return True/False. \u001b[39m\u001b[33m\"\u001b[39m\n\u001b[32m    275\u001b[39m                \u001b[33m\"\u001b[39m\u001b[33mCompilerPass with name \u001b[39m\u001b[33m'\u001b[39m\u001b[38;5;132;01m%s\u001b[39;00m\u001b[33m'\u001b[39m\u001b[33m did not.\u001b[39m\u001b[33m\"\u001b[39m)\n",
      "\u001b[36mFile \u001b[39m\u001b[32m~\\AppData\\Roaming\\Python\\Python313\\site-packages\\numba\\core\\typed_passes.py:112\u001b[39m, in \u001b[36mBaseTypeInference.run_pass\u001b[39m\u001b[34m(self, state)\u001b[39m\n\u001b[32m    106\u001b[39m \u001b[38;5;250m\u001b[39m\u001b[33;03m\"\"\"\u001b[39;00m\n\u001b[32m    107\u001b[39m \u001b[33;03mType inference and legalization\u001b[39;00m\n\u001b[32m    108\u001b[39m \u001b[33;03m\"\"\"\u001b[39;00m\n\u001b[32m    109\u001b[39m \u001b[38;5;28;01mwith\u001b[39;00m fallback_context(state, \u001b[33m'\u001b[39m\u001b[33mFunction \u001b[39m\u001b[33m\"\u001b[39m\u001b[38;5;132;01m%s\u001b[39;00m\u001b[33m\"\u001b[39m\u001b[33m failed type inference\u001b[39m\u001b[33m'\u001b[39m\n\u001b[32m    110\u001b[39m                       % (state.func_id.func_name,)):\n\u001b[32m    111\u001b[39m     \u001b[38;5;66;03m# Type inference\u001b[39;00m\n\u001b[32m--> \u001b[39m\u001b[32m112\u001b[39m     typemap, return_type, calltypes, errs = \u001b[43mtype_inference_stage\u001b[49m\u001b[43m(\u001b[49m\n\u001b[32m    113\u001b[39m \u001b[43m        \u001b[49m\u001b[43mstate\u001b[49m\u001b[43m.\u001b[49m\u001b[43mtypingctx\u001b[49m\u001b[43m,\u001b[49m\n\u001b[32m    114\u001b[39m \u001b[43m        \u001b[49m\u001b[43mstate\u001b[49m\u001b[43m.\u001b[49m\u001b[43mtargetctx\u001b[49m\u001b[43m,\u001b[49m\n\u001b[32m    115\u001b[39m \u001b[43m        \u001b[49m\u001b[43mstate\u001b[49m\u001b[43m.\u001b[49m\u001b[43mfunc_ir\u001b[49m\u001b[43m,\u001b[49m\n\u001b[32m    116\u001b[39m \u001b[43m        \u001b[49m\u001b[43mstate\u001b[49m\u001b[43m.\u001b[49m\u001b[43margs\u001b[49m\u001b[43m,\u001b[49m\n\u001b[32m    117\u001b[39m \u001b[43m        \u001b[49m\u001b[43mstate\u001b[49m\u001b[43m.\u001b[49m\u001b[43mreturn_type\u001b[49m\u001b[43m,\u001b[49m\n\u001b[32m    118\u001b[39m \u001b[43m        \u001b[49m\u001b[43mstate\u001b[49m\u001b[43m.\u001b[49m\u001b[43mlocals\u001b[49m\u001b[43m,\u001b[49m\n\u001b[32m    119\u001b[39m \u001b[43m        \u001b[49m\u001b[43mraise_errors\u001b[49m\u001b[43m=\u001b[49m\u001b[38;5;28;43mself\u001b[39;49m\u001b[43m.\u001b[49m\u001b[43m_raise_errors\u001b[49m\u001b[43m)\u001b[49m\n\u001b[32m    120\u001b[39m     state.typemap = typemap\n\u001b[32m    121\u001b[39m     \u001b[38;5;66;03m# save errors in case of partial typing\u001b[39;00m\n",
      "\u001b[36mFile \u001b[39m\u001b[32m~\\AppData\\Roaming\\Python\\Python313\\site-packages\\numba\\core\\typed_passes.py:93\u001b[39m, in \u001b[36mtype_inference_stage\u001b[39m\u001b[34m(typingctx, targetctx, interp, args, return_type, locals, raise_errors)\u001b[39m\n\u001b[32m     91\u001b[39m     infer.build_constraint()\n\u001b[32m     92\u001b[39m     \u001b[38;5;66;03m# return errors in case of partial typing\u001b[39;00m\n\u001b[32m---> \u001b[39m\u001b[32m93\u001b[39m     errs = \u001b[43minfer\u001b[49m\u001b[43m.\u001b[49m\u001b[43mpropagate\u001b[49m\u001b[43m(\u001b[49m\u001b[43mraise_errors\u001b[49m\u001b[43m=\u001b[49m\u001b[43mraise_errors\u001b[49m\u001b[43m)\u001b[49m\n\u001b[32m     94\u001b[39m     typemap, restype, calltypes = infer.unify(raise_errors=raise_errors)\n\u001b[32m     96\u001b[39m \u001b[38;5;28;01mreturn\u001b[39;00m _TypingResults(typemap, restype, calltypes, errs)\n",
      "\u001b[36mFile \u001b[39m\u001b[32m~\\AppData\\Roaming\\Python\\Python313\\site-packages\\numba\\core\\typeinfer.py:1074\u001b[39m, in \u001b[36mTypeInferer.propagate\u001b[39m\u001b[34m(self, raise_errors)\u001b[39m\n\u001b[32m   1071\u001b[39m force_lit_args = [e \u001b[38;5;28;01mfor\u001b[39;00m e \u001b[38;5;129;01min\u001b[39;00m errors\n\u001b[32m   1072\u001b[39m                   \u001b[38;5;28;01mif\u001b[39;00m \u001b[38;5;28misinstance\u001b[39m(e, ForceLiteralArg)]\n\u001b[32m   1073\u001b[39m \u001b[38;5;28;01mif\u001b[39;00m \u001b[38;5;129;01mnot\u001b[39;00m force_lit_args:\n\u001b[32m-> \u001b[39m\u001b[32m1074\u001b[39m     \u001b[38;5;28;01mraise\u001b[39;00m errors[\u001b[32m0\u001b[39m]\n\u001b[32m   1075\u001b[39m \u001b[38;5;28;01melse\u001b[39;00m:\n\u001b[32m   1076\u001b[39m     \u001b[38;5;28;01mraise\u001b[39;00m reduce(operator.or_, force_lit_args)\n",
      "\u001b[31mTypingError\u001b[39m: Failed in nopython mode pipeline (step: nopython frontend)\n\u001b[1m\u001b[1m\u001b[1mNo implementation of function Function(<built-in function getitem>) found for signature:\n \n >>> getitem(readonly array(uint8, 3d, C), Tuple(float64, float64, Literal[int](0)))\n \nThere are 22 candidate implementations:\n\u001b[1m    - Of which 20 did not match due to:\n    Overload of function 'getitem': File: <numerous>: Line N/A.\n      With argument(s): '(readonly array(uint8, 3d, C), Tuple(float64, float64, int64))':\u001b[0m\n\u001b[1m     No match.\u001b[0m\n\u001b[1m    - Of which 1 did not match due to:\n    Overload in function 'GetItemBuffer.generic': File: numba\\core\\typing\\arraydecl.py: Line 211.\n      With argument(s): '(readonly array(uint8, 3d, C), Tuple(float64, float64, int64))':\u001b[0m\n\u001b[1m     Rejected as the implementation raised a specific error:\n       NumbaTypeError: \u001b[1mUnsupported array index type float64 in Tuple(float64, float64, int64)\u001b[0m\u001b[0m\n  raised from C:\\Users\\rrrad\\AppData\\Roaming\\Python\\Python313\\site-packages\\numba\\core\\typing\\arraydecl.py:104\n\u001b[1m    - Of which 1 did not match due to:\n    Overload in function 'GetItemBuffer.generic': File: numba\\core\\typing\\arraydecl.py: Line 211.\n      With argument(s): '(readonly array(uint8, 3d, C), Tuple(float64, float64, Literal[int](0)))':\u001b[0m\n\u001b[1m     Rejected as the implementation raised a specific error:\n       NumbaTypeError: \u001b[1mUnsupported array index type float64 in Tuple(float64, float64, Literal[int](0))\u001b[0m\u001b[0m\n  raised from C:\\Users\\rrrad\\AppData\\Roaming\\Python\\Python313\\site-packages\\numba\\core\\typing\\arraydecl.py:104\n\u001b[0m\n\u001b[0m\u001b[1mDuring: typing of intrinsic-call at C:\\Users\\rrrad\\AppData\\Local\\Temp\\ipykernel_9008\\2324517020.py (4)\u001b[0m\n\u001b[1m\nFile \"..\\..\\..\\..\\AppData\\Local\\Temp\\ipykernel_9008\\2324517020.py\", line 4:\u001b[0m\n\u001b[1m<source missing, REPL/exec in use?>\u001b[0m\n\n\u001b[0m\u001b[1mDuring: Pass nopython_type_inference\u001b[0m"
     ]
    }
   ],
   "source": [
    "from numba import vectorize\n",
    "@vectorize\n",
    "def myfunc(indice_x,indice_y):\n",
    "    return image_array[indice_y,indice_x,0]\n",
    "\n",
    "myfunc(indices_x2, indices_y2)"
   ]
  },
  {
   "cell_type": "code",
   "execution_count": 104,
   "id": "2e0e4b11",
   "metadata": {},
   "outputs": [],
   "source": [
    "i=np.round(indices_x2)[0,0]"
   ]
  },
  {
   "cell_type": "code",
   "execution_count": 106,
   "id": "096abc02",
   "metadata": {},
   "outputs": [
    {
     "name": "stderr",
     "output_type": "stream",
     "text": [
      "C:\\Users\\rrrad\\AppData\\Local\\Temp\\ipykernel_9008\\4152098255.py:1: RuntimeWarning: invalid value encountered in cast\n",
      "  indices_x2.astype(np.int64)\n"
     ]
    },
    {
     "data": {
      "text/plain": [
       "array([[103, 103, 103, ..., 126, 126, 126],\n",
       "       [103, 103, 103, ..., 126, 126, 126],\n",
       "       [103, 103, 103, ..., 126, 126, 126],\n",
       "       ...,\n",
       "       [105, 105, 105, ..., 124, 124, 124],\n",
       "       [105, 105, 105, ..., 124, 124, 124],\n",
       "       [105, 105, 105, ..., 124, 124, 124]], shape=(235, 214))"
      ]
     },
     "execution_count": 106,
     "metadata": {},
     "output_type": "execute_result"
    }
   ],
   "source": [
    "indices_x2.astype(np.int64)"
   ]
  },
  {
   "cell_type": "code",
   "execution_count": 96,
   "id": "8bac46af",
   "metadata": {},
   "outputs": [
    {
     "data": {
      "text/plain": [
       "array([[[255, 255, 255],\n",
       "        [255, 255, 255],\n",
       "        [255, 255, 255],\n",
       "        ...,\n",
       "        [255, 255, 255],\n",
       "        [255, 255, 255],\n",
       "        [255, 255, 255]],\n",
       "\n",
       "       [[255, 255, 255],\n",
       "        [255, 255, 255],\n",
       "        [255, 255, 255],\n",
       "        ...,\n",
       "        [255, 255, 255],\n",
       "        [255, 255, 255],\n",
       "        [255, 255, 255]],\n",
       "\n",
       "       [[255, 255, 255],\n",
       "        [255, 255, 255],\n",
       "        [255, 255, 255],\n",
       "        ...,\n",
       "        [255, 255, 255],\n",
       "        [255, 255, 255],\n",
       "        [255, 255, 255]],\n",
       "\n",
       "       ...,\n",
       "\n",
       "       [[255, 255, 255],\n",
       "        [255, 255, 255],\n",
       "        [255, 255, 255],\n",
       "        ...,\n",
       "        [255, 255, 255],\n",
       "        [255, 255, 255],\n",
       "        [255, 255, 255]],\n",
       "\n",
       "       [[255, 255, 255],\n",
       "        [255, 255, 255],\n",
       "        [255, 255, 255],\n",
       "        ...,\n",
       "        [255, 255, 255],\n",
       "        [255, 255, 255],\n",
       "        [255, 255, 255]],\n",
       "\n",
       "       [[255, 255, 255],\n",
       "        [255, 255, 255],\n",
       "        [255, 255, 255],\n",
       "        ...,\n",
       "        [255, 255, 255],\n",
       "        [255, 255, 255],\n",
       "        [255, 255, 255]]], shape=(235, 214, 3), dtype=uint8)"
      ]
     },
     "execution_count": 96,
     "metadata": {},
     "output_type": "execute_result"
    }
   ],
   "source": [
    "image_array"
   ]
  },
  {
   "cell_type": "code",
   "execution_count": 88,
   "id": "dd55fefe",
   "metadata": {},
   "outputs": [],
   "source": [
    "a=np.random.rand(100,100)\n",
    "b=np.random.rand(100,100)"
   ]
  },
  {
   "cell_type": "code",
   "execution_count": 89,
   "id": "bec7e2e8",
   "metadata": {},
   "outputs": [
    {
     "data": {
      "text/plain": [
       "array([[1.70300759, 0.76711252, 1.4322551 , ..., 0.42597527, 1.03889635,\n",
       "        0.6085949 ],\n",
       "       [1.23492519, 1.52002416, 1.1464232 , ..., 0.4363074 , 1.09967078,\n",
       "        1.40151733],\n",
       "       [0.80356434, 0.72543347, 0.21741598, ..., 0.42662757, 0.82031372,\n",
       "        0.73749846],\n",
       "       ...,\n",
       "       [1.14572835, 1.61668058, 1.42088963, ..., 1.33323899, 0.94569728,\n",
       "        1.21896761],\n",
       "       [1.51998608, 1.36403436, 0.9988623 , ..., 1.5582967 , 1.16109778,\n",
       "        0.87743215],\n",
       "       [1.70063229, 0.86909803, 0.33573767, ..., 0.79563073, 0.77228501,\n",
       "        1.01728529]], shape=(100, 100))"
      ]
     },
     "execution_count": 89,
     "metadata": {},
     "output_type": "execute_result"
    }
   ],
   "source": [
    "a+b"
   ]
  },
  {
   "cell_type": "code",
   "execution_count": 90,
   "id": "e28017c9",
   "metadata": {},
   "outputs": [
    {
     "data": {
      "text/plain": [
       "array([[1.70300759, 0.76711252, 1.4322551 , ..., 0.42597527, 1.03889635,\n",
       "        0.6085949 ],\n",
       "       [1.23492519, 1.52002416, 1.1464232 , ..., 0.4363074 , 1.09967078,\n",
       "        1.40151733],\n",
       "       [0.80356434, 0.72543347, 0.21741598, ..., 0.42662757, 0.82031372,\n",
       "        0.73749846],\n",
       "       ...,\n",
       "       [1.14572835, 1.61668058, 1.42088963, ..., 1.33323899, 0.94569728,\n",
       "        1.21896761],\n",
       "       [1.51998608, 1.36403436, 0.9988623 , ..., 1.5582967 , 1.16109778,\n",
       "        0.87743215],\n",
       "       [1.70063229, 0.86909803, 0.33573767, ..., 0.79563073, 0.77228501,\n",
       "        1.01728529]], shape=(100, 100))"
      ]
     },
     "execution_count": 90,
     "metadata": {},
     "output_type": "execute_result"
    }
   ],
   "source": [
    "myfunc(a,b)"
   ]
  }
 ],
 "metadata": {
  "kernelspec": {
   "display_name": "Python 3",
   "language": "python",
   "name": "python3"
  },
  "language_info": {
   "codemirror_mode": {
    "name": "ipython",
    "version": 3
   },
   "file_extension": ".py",
   "mimetype": "text/x-python",
   "name": "python",
   "nbconvert_exporter": "python",
   "pygments_lexer": "ipython3",
   "version": "3.13.3"
  }
 },
 "nbformat": 4,
 "nbformat_minor": 5
}
