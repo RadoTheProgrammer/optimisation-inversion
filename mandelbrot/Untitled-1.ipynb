{
 "cells": [
  {
   "cell_type": "code",
   "execution_count": 9,
   "id": "7a84a0a0",
   "metadata": {},
   "outputs": [],
   "source": [
    "c = complex(1,2)"
   ]
  },
  {
   "cell_type": "code",
   "execution_count": 1,
   "id": "76fb696d",
   "metadata": {},
   "outputs": [],
   "source": [
    "import matplotlib.patches as patches\n",
    "rect = patches.Rectangle((0, 0), 1, 1, angle=45, color='blue')"
   ]
  },
  {
   "cell_type": "code",
   "execution_count": 3,
   "id": "d8432065",
   "metadata": {},
   "outputs": [
    {
     "data": {
      "image/png": "[encoded data removed]",
      "text/plain": [
       "<Figure size 640x480 with 1 Axes>"
      ]
     },
     "metadata": {},
     "output_type": "display_data"
    }
   ],
   "source": [
    "import matplotlib.pyplot as plt\n",
    "import matplotlib.patches as patches\n",
    "\n",
    "fig, ax = plt.subplots()\n",
    "\n",
    "# Create a rectangle at (x=2, y=3), with width=4 and height=2\n",
    "rect = patches.Rectangle((2, 3), 4, 2, linewidth=2, edgecolor='r', facecolor='blue', alpha=0.5)\n",
    "\n",
    "# Add the rectangle to the Axes\n",
    "ax.add_patch(rect)\n",
    "\n",
    "# Set limits and show\n",
    "ax.set_xlim(0, 10)\n",
    "ax.set_ylim(0, 10)\n",
    "plt.grid(True)\n",
    "plt.show()\n"
   ]
  },
  {
   "cell_type": "code",
   "execution_count": 11,
   "id": "2e221ee7",
   "metadata": {},
   "outputs": [
    {
     "name": "stdout",
     "output_type": "stream",
     "text": [
      "0j\n",
      "(-2-2j)\n",
      "(-2+6j)\n",
      "(-34-26j)\n",
      "(478+1766j)\n",
      "(-2890274+1688294j)\n",
      "(5503347164638-9759264505114j)\n",
      "(-6.49564136662489e+25-1.0741724128634281e+26j)\n",
      "(-7.319128049187544e+51+1.3954877519765908e+52j)\n",
      "(-1.4116897119126401e+104-2.0427507095579074e+104j)\n",
      "(-2.179962618679341e+208+5.767460321370287e+208j)\n",
      "(nan+nanj)\n",
      "(nan+nanj)\n",
      "(nan+nanj)\n",
      "(nan+nanj)\n",
      "(nan+nanj)\n",
      "(nan+nanj)\n",
      "(nan+nanj)\n",
      "(nan+nanj)\n",
      "(nan+nanj)\n",
      "(nan+nanj)\n",
      "(nan+nanj)\n",
      "(nan+nanj)\n",
      "(nan+nanj)\n",
      "(nan+nanj)\n",
      "(nan+nanj)\n",
      "(nan+nanj)\n",
      "(nan+nanj)\n",
      "(nan+nanj)\n",
      "(nan+nanj)\n",
      "(nan+nanj)\n",
      "(nan+nanj)\n",
      "(nan+nanj)\n",
      "(nan+nanj)\n",
      "(nan+nanj)\n",
      "(nan+nanj)\n",
      "(nan+nanj)\n",
      "(nan+nanj)\n",
      "(nan+nanj)\n",
      "(nan+nanj)\n",
      "(nan+nanj)\n",
      "(nan+nanj)\n",
      "(nan+nanj)\n",
      "(nan+nanj)\n",
      "(nan+nanj)\n",
      "(nan+nanj)\n",
      "(nan+nanj)\n",
      "(nan+nanj)\n",
      "(nan+nanj)\n",
      "(nan+nanj)\n",
      "(nan+nanj)\n",
      "(nan+nanj)\n",
      "(nan+nanj)\n",
      "(nan+nanj)\n",
      "(nan+nanj)\n",
      "(nan+nanj)\n",
      "(nan+nanj)\n",
      "(nan+nanj)\n",
      "(nan+nanj)\n",
      "(nan+nanj)\n",
      "(nan+nanj)\n",
      "(nan+nanj)\n",
      "(nan+nanj)\n",
      "(nan+nanj)\n",
      "(nan+nanj)\n",
      "(nan+nanj)\n",
      "(nan+nanj)\n",
      "(nan+nanj)\n",
      "(nan+nanj)\n",
      "(nan+nanj)\n",
      "(nan+nanj)\n",
      "(nan+nanj)\n",
      "(nan+nanj)\n",
      "(nan+nanj)\n",
      "(nan+nanj)\n",
      "(nan+nanj)\n",
      "(nan+nanj)\n",
      "(nan+nanj)\n",
      "(nan+nanj)\n",
      "(nan+nanj)\n",
      "(nan+nanj)\n",
      "(nan+nanj)\n",
      "(nan+nanj)\n",
      "(nan+nanj)\n",
      "(nan+nanj)\n",
      "(nan+nanj)\n",
      "(nan+nanj)\n",
      "(nan+nanj)\n",
      "(nan+nanj)\n",
      "(nan+nanj)\n",
      "(nan+nanj)\n",
      "(nan+nanj)\n",
      "(nan+nanj)\n",
      "(nan+nanj)\n",
      "(nan+nanj)\n",
      "(nan+nanj)\n",
      "(nan+nanj)\n",
      "(nan+nanj)\n",
      "(nan+nanj)\n",
      "(nan+nanj)\n"
     ]
    }
   ],
   "source": [
    "def iterations(c:complex,n:int = 100):\n",
    "    for i in range(n):\n",
    "        if i:\n",
    "            val = last_val**2 + c\n",
    "        else:\n",
    "            val = complex()\n",
    "        print(val)\n",
    "        last_val = val\n",
    "    return val\n",
    "\n",
    "val=iterations(complex(-2,-2))\n"
   ]
  },
  {
   "cell_type": "code",
   "execution_count": 1,
   "id": "67d4aed4",
   "metadata": {},
   "outputs": [
    {
     "name": "stdout",
     "output_type": "stream",
     "text": [
      "{np.int64(1): np.int64(1), np.int64(2): np.int64(2), np.int64(3): np.int64(3), np.int64(4): np.int64(1)}\n"
     ]
    }
   ],
   "source": [
    "import numpy as np\n",
    "\n",
    "# Example array\n",
    "arr = np.array([1, 2, 2, 3, 3, 3, 4])\n",
    "\n",
    "# Count unique values\n",
    "values, counts = np.unique(arr, return_counts=True)\n",
    "\n",
    "# Combine into a dictionary (optional)\n",
    "value_counts = dict(zip(values, counts))\n",
    "\n",
    "print(value_counts)\n"
   ]
  },
  {
   "cell_type": "code",
   "execution_count": null,
   "id": "4cc2abba",
   "metadata": {},
   "outputs": [
    {
     "data": {
      "text/plain": [
       "<function numpy.array>"
      ]
     },
     "execution_count": 6,
     "metadata": {},
     "output_type": "execute_result"
    }
   ],
   "source": [
    "np.array"
   ]
  },
  {
   "cell_type": "code",
   "execution_count": 3,
   "id": "a04c2480",
   "metadata": {},
   "outputs": [
    {
     "data": {
      "text/plain": [
       "array([1, 2, 3, 4])"
      ]
     },
     "execution_count": 3,
     "metadata": {},
     "output_type": "execute_result"
    }
   ],
   "source": [
    "np.unique(arr)"
   ]
  },
  {
   "cell_type": "code",
   "execution_count": 1,
   "id": "d7ce33c0",
   "metadata": {},
   "outputs": [
    {
     "name": "stdout",
     "output_type": "stream",
     "text": [
      "pygame 2.6.1 (SDL 2.28.4, Python 3.13.3)\n",
      "Hello from the pygame community. https://www.pygame.org/contribute.html\n"
     ]
    },
    {
     "name": "stderr",
     "output_type": "stream",
     "text": [
      "C:\\Users\\rrrad\\AppData\\Roaming\\Python\\Python313\\site-packages\\pygame\\pkgdata.py:25: UserWarning: pkg_resources is deprecated as an API. See https://setuptools.pypa.io/en/latest/pkg_resources.html. The pkg_resources package is slated for removal as early as 2025-11-30. Refrain from using this package or pin to Setuptools<81.\n",
      "  from pkg_resources import resource_stream, resource_exists\n"
     ]
    }
   ],
   "source": [
    "import pygame"
   ]
  },
  {
   "cell_type": "code",
   "execution_count": 7,
   "id": "0d4ba36f",
   "metadata": {},
   "outputs": [],
   "source": [
    "rect = pygame.Rect(-2,-2,4,4)"
   ]
  },
  {
   "cell_type": "code",
   "execution_count": 9,
   "id": "76b5a83b",
   "metadata": {},
   "outputs": [],
   "source": [
    "rect.centerx=1"
   ]
  },
  {
   "cell_type": "code",
   "execution_count": 14,
   "id": "55a4b673",
   "metadata": {},
   "outputs": [
    {
     "data": {
      "text/plain": [
       "3"
      ]
     },
     "execution_count": 14,
     "metadata": {},
     "output_type": "execute_result"
    }
   ],
   "source": [
    "int(1/0.3)"
   ]
  },
  {
   "cell_type": "code",
   "execution_count": 17,
   "id": "0b532a1a",
   "metadata": {},
   "outputs": [
    {
     "ename": "TypeError",
     "evalue": "must be real number, not complex",
     "output_type": "error",
     "traceback": [
      "\u001b[31m---------------------------------------------------------------------------\u001b[39m",
      "\u001b[31mTypeError\u001b[39m                                 Traceback (most recent call last)",
      "\u001b[36mCell\u001b[39m\u001b[36m \u001b[39m\u001b[32mIn[17]\u001b[39m\u001b[32m, line 3\u001b[39m\n\u001b[32m      1\u001b[39m \u001b[38;5;28;01mimport\u001b[39;00m\u001b[38;5;250m \u001b[39m\u001b[34;01mmath\u001b[39;00m\n\u001b[32m----> \u001b[39m\u001b[32m3\u001b[39m \u001b[43mmath\u001b[49m\u001b[43m.\u001b[49m\u001b[43misnan\u001b[49m\u001b[43m(\u001b[49m\u001b[43mval\u001b[49m\u001b[43m)\u001b[49m\n",
      "\u001b[31mTypeError\u001b[39m: must be real number, not complex"
     ]
    }
   ],
   "source": [
    "import math\n",
    "\n",
    "math.isnan(val)"
   ]
  },
  {
   "cell_type": "code",
   "execution_count": 4,
   "id": "431838ab",
   "metadata": {},
   "outputs": [
    {
     "name": "stdout",
     "output_type": "stream",
     "text": [
      "pygame 2.6.1 (SDL 2.28.4, Python 3.13.3)\n",
      "Hello from the pygame community. https://www.pygame.org/contribute.html\n"
     ]
    },
    {
     "name": "stderr",
     "output_type": "stream",
     "text": [
      "C:\\Users\\rrrad\\AppData\\Roaming\\Python\\Python313\\site-packages\\pygame\\pkgdata.py:25: UserWarning: pkg_resources is deprecated as an API. See https://setuptools.pypa.io/en/latest/pkg_resources.html. The pkg_resources package is slated for removal as early as 2025-11-30. Refrain from using this package or pin to Setuptools<81.\n",
      "  from pkg_resources import resource_stream, resource_exists\n"
     ]
    }
   ],
   "source": [
    "import pygame\n",
    "rect = pygame.Rect(1,2,3,2)"
   ]
  },
  {
   "cell_type": "code",
   "execution_count": 10,
   "id": "99f33d1a",
   "metadata": {},
   "outputs": [
    {
     "data": {
      "text/plain": [
       "<rect(2, 3, 3, 2)>"
      ]
     },
     "execution_count": 10,
     "metadata": {},
     "output_type": "execute_result"
    }
   ],
   "source": [
    "rect.left = 2\n",
    "rect"
   ]
  },
  {
   "cell_type": "code",
   "execution_count": 8,
   "id": "d2747ea7",
   "metadata": {},
   "outputs": [
    {
     "data": {
      "text/plain": [
       "<rect(1, 3, 3, 2)>"
      ]
     },
     "execution_count": 8,
     "metadata": {},
     "output_type": "execute_result"
    }
   ],
   "source": [
    "rect"
   ]
  }
 ],
 "metadata": {
  "kernelspec": {
   "display_name": "Python 3",
   "language": "python",
   "name": "python3"
  },
  "language_info": {
   "codemirror_mode": {
    "name": "ipython",
    "version": 3
   },
   "file_extension": ".py",
   "mimetype": "text/x-python",
   "name": "python",
   "nbconvert_exporter": "python",
   "pygments_lexer": "ipython3",
   "version": "3.13.3"
  }
 },
 "nbformat": 4,
 "nbformat_minor": 5
}
