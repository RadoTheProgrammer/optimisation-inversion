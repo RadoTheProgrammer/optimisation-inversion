{
 "cells": [
  {
   "cell_type": "code",
   "execution_count": 30,
   "id": "0a53c454",
   "metadata": {},
   "outputs": [
    {
     "data": {
      "text/plain": [
       "array([[0.50366016, 0.6102323 , 0.89657024, ..., 0.56634735, 0.16831021,\n",
       "        0.94025524],\n",
       "       [0.2335678 , 0.86996776, 0.19452427, ..., 0.33745256, 0.99162256,\n",
       "        0.65133035],\n",
       "       [0.35324127, 0.60569972, 0.9780205 , ..., 0.33369917, 0.70003786,\n",
       "        0.39474967],\n",
       "       ...,\n",
       "       [0.29603409, 0.69963842, 0.18035765, ..., 0.87784291, 0.6718538 ,\n",
       "        0.29083961],\n",
       "       [0.57345845, 0.00907709, 0.34065334, ..., 0.34322196, 0.04913793,\n",
       "        0.16987198],\n",
       "       [0.5782265 , 0.3473817 , 0.997028  , ..., 0.98904464, 0.69024125,\n",
       "        0.29410597]], shape=(2000, 2000))"
      ]
     },
     "execution_count": 30,
     "metadata": {},
     "output_type": "execute_result"
    }
   ],
   "source": [
    "import numpy as np\n",
    "array = np.random.rand(2000,2000)\n",
    "func = lambda x: x**2\n",
    "array"
   ]
  },
  {
   "cell_type": "code",
   "execution_count": null,
   "id": "0318565b",
   "metadata": {},
   "outputs": [
    {
     "name": "stdout",
     "output_type": "stream",
     "text": [
      "501 ms ± 6.2 ms per loop (mean ± std. dev. of 7 runs, 1 loop each)\n"
     ]
    }
   ],
   "source": [
    "# for-loop\n",
    "%%timeit # 500 ms\n",
    "array2 = []\n",
    "for line in array:\n",
    "    line2 = []\n",
    "    for item in line:\n",
    "        line2.append(func(item))\n",
    "    array2.append(line2)\n",
    "#array2 = np.array(array2) 667 ms\n",
    "#print(array2)"
   ]
  },
  {
   "cell_type": "code",
   "execution_count": null,
   "id": "3e92a561",
   "metadata": {},
   "outputs": [
    {
     "name": "stdout",
     "output_type": "stream",
     "text": [
      "478 ms ± 3.13 ms per loop (mean ± std. dev. of 7 runs, 1 loop each)\n"
     ]
    }
   ],
   "source": [
    "# list-comprehension\n",
    "\n",
    "%%timeit #478 ms\n",
    "array2 = [[func(item) for item in line] for line in array]\n"
   ]
  },
  {
   "cell_type": "code",
   "execution_count": 11,
   "id": "5c1c1286",
   "metadata": {},
   "outputs": [
    {
     "name": "stdout",
     "output_type": "stream",
     "text": [
      "636 ms ± 6.08 ms per loop (mean ± std. dev. of 7 runs, 1 loop each)\n"
     ]
    }
   ],
   "source": [
    "# vectorization\n",
    "vectorized = np.vectorize(func)\n",
    "%timeit array2 = vectorized(array)"
   ]
  },
  {
   "cell_type": "code",
   "execution_count": null,
   "id": "289afcb9",
   "metadata": {},
   "outputs": [
    {
     "name": "stdout",
     "output_type": "stream",
     "text": [
      "736 ms ± 5.54 ms per loop (mean ± std. dev. of 7 runs, 1 loop each)\n"
     ]
    }
   ],
   "source": [
    "%%timeit\n",
    "# map1\n",
    "\n",
    "array2 = list(map(func, array.flatten())) #583 ms\n",
    "array2 = np.array(array2) #735 ms\n",
    "array2 = array2.reshape(array.shape) #735 ms (reshape is fast)\n"
   ]
  },
  {
   "cell_type": "code",
   "execution_count": 24,
   "id": "9d2fed4c",
   "metadata": {},
   "outputs": [
    {
     "name": "stdout",
     "output_type": "stream",
     "text": [
      "545 ms ± 9.97 ms per loop (mean ± std. dev. of 7 runs, 1 loop each)\n"
     ]
    }
   ],
   "source": [
    "%%timeit\n",
    "# map2\n",
    "array2 = [list(map(func, line)) for line in array] # 500 ms"
   ]
  },
  {
   "cell_type": "code",
   "execution_count": null,
   "id": "f0b8046f",
   "metadata": {},
   "outputs": [
    {
     "name": "stdout",
     "output_type": "stream",
     "text": [
      "157 ms ± 1.16 ms per loop (mean ± std. dev. of 7 runs, 10 loops each)\n"
     ]
    }
   ],
   "source": [
    "# df.apply\n",
    "import pandas as pd\n",
    "df = pd.DataFrame(array)\n",
    "%timeit df.apply(func)"
   ]
  },
  {
   "cell_type": "code",
   "execution_count": 33,
   "id": "f8d4c6c4",
   "metadata": {},
   "outputs": [],
   "source": [
    "from numba import vectorize\n",
    "@vectorize(['float64(float64)'])\n",
    "def func_numba(x):\n",
    "    return x**2\n",
    "array2 = func_numba(array)"
   ]
  },
  {
   "cell_type": "code",
   "execution_count": 39,
   "id": "4596707d",
   "metadata": {},
   "outputs": [],
   "source": [
    "from numba import njit\n",
    "import numpy as np\n",
    "\n",
    "@njit\n",
    "def fast_func(arr):\n",
    "    result = np.empty_like(arr)\n",
    "    for i in range(len(arr)):\n",
    "        result[i] = arr[i] ** 2 + np.sin(arr[i])\n",
    "    return result\n"
   ]
  },
  {
   "cell_type": "code",
   "execution_count": 41,
   "id": "fdfe3689",
   "metadata": {},
   "outputs": [],
   "source": [
    "d=fast_func(array)"
   ]
  },
  {
   "cell_type": "code",
   "execution_count": 44,
   "id": "10698c5a",
   "metadata": {},
   "outputs": [
    {
     "ename": "TypingError",
     "evalue": "Failed in nopython mode pipeline (step: nopython frontend)\n\u001b[1m\u001b[1m\u001b[1mUse of unsupported NumPy function 'numpy.vectorize' or unsupported use of the function.\n\u001b[1m\nFile \"..\\..\\..\\..\\AppData\\Local\\Temp\\ipykernel_10840\\2453365944.py\", line 4:\u001b[0m\n\u001b[1m<source missing, REPL/exec in use?>\u001b[0m\n\u001b[0m\n\u001b[0m\u001b[1mDuring: typing of get attribute at C:\\Users\\rrrad\\AppData\\Local\\Temp\\ipykernel_10840\\2453365944.py (4)\u001b[0m\n\u001b[1m\nFile \"..\\..\\..\\..\\AppData\\Local\\Temp\\ipykernel_10840\\2453365944.py\", line 4:\u001b[0m\n\u001b[1m<source missing, REPL/exec in use?>\u001b[0m\n\n\u001b[0m\u001b[1mDuring: Pass nopython_type_inference\u001b[0m",
     "output_type": "error",
     "traceback": [
      "\u001b[31m---------------------------------------------------------------------------\u001b[39m",
      "\u001b[31mTypingError\u001b[39m                               Traceback (most recent call last)",
      "\u001b[36mCell\u001b[39m\u001b[36m \u001b[39m\u001b[32mIn[44]\u001b[39m\u001b[32m, line 5\u001b[39m\n\u001b[32m      2\u001b[39m \u001b[38;5;129m@jit\u001b[39m\n\u001b[32m      3\u001b[39m \u001b[38;5;28;01mdef\u001b[39;00m\u001b[38;5;250m \u001b[39m\u001b[34mnb_vectorization\u001b[39m(arr):\n\u001b[32m      4\u001b[39m     \u001b[38;5;28;01mreturn\u001b[39;00m np.vectorize(\u001b[38;5;28;01mlambda\u001b[39;00m x: x**\u001b[32m2\u001b[39m)(arr)\n\u001b[32m----> \u001b[39m\u001b[32m5\u001b[39m d = \u001b[43mnb_vectorization\u001b[49m\u001b[43m(\u001b[49m\u001b[43marray\u001b[49m\u001b[43m)\u001b[49m\n",
      "\u001b[36mFile \u001b[39m\u001b[32m~\\AppData\\Roaming\\Python\\Python313\\site-packages\\numba\\core\\dispatcher.py:424\u001b[39m, in \u001b[36m_DispatcherBase._compile_for_args\u001b[39m\u001b[34m(self, *args, **kws)\u001b[39m\n\u001b[32m    420\u001b[39m         msg = (\u001b[33mf\u001b[39m\u001b[33m\"\u001b[39m\u001b[38;5;132;01m{\u001b[39;00m\u001b[38;5;28mstr\u001b[39m(e).rstrip()\u001b[38;5;132;01m}\u001b[39;00m\u001b[33m \u001b[39m\u001b[38;5;130;01m\\n\u001b[39;00m\u001b[38;5;130;01m\\n\u001b[39;00m\u001b[33mThis error may have been caused \u001b[39m\u001b[33m\"\u001b[39m\n\u001b[32m    421\u001b[39m                \u001b[33mf\u001b[39m\u001b[33m\"\u001b[39m\u001b[33mby the following argument(s):\u001b[39m\u001b[38;5;130;01m\\n\u001b[39;00m\u001b[38;5;132;01m{\u001b[39;00margs_str\u001b[38;5;132;01m}\u001b[39;00m\u001b[38;5;130;01m\\n\u001b[39;00m\u001b[33m\"\u001b[39m)\n\u001b[32m    422\u001b[39m         e.patch_message(msg)\n\u001b[32m--> \u001b[39m\u001b[32m424\u001b[39m     \u001b[43merror_rewrite\u001b[49m\u001b[43m(\u001b[49m\u001b[43me\u001b[49m\u001b[43m,\u001b[49m\u001b[43m \u001b[49m\u001b[33;43m'\u001b[39;49m\u001b[33;43mtyping\u001b[39;49m\u001b[33;43m'\u001b[39;49m\u001b[43m)\u001b[49m\n\u001b[32m    425\u001b[39m \u001b[38;5;28;01mexcept\u001b[39;00m errors.UnsupportedError \u001b[38;5;28;01mas\u001b[39;00m e:\n\u001b[32m    426\u001b[39m     \u001b[38;5;66;03m# Something unsupported is present in the user code, add help info\u001b[39;00m\n\u001b[32m    427\u001b[39m     error_rewrite(e, \u001b[33m'\u001b[39m\u001b[33munsupported_error\u001b[39m\u001b[33m'\u001b[39m)\n",
      "\u001b[36mFile \u001b[39m\u001b[32m~\\AppData\\Roaming\\Python\\Python313\\site-packages\\numba\\core\\dispatcher.py:365\u001b[39m, in \u001b[36m_DispatcherBase._compile_for_args.<locals>.error_rewrite\u001b[39m\u001b[34m(e, issue_type)\u001b[39m\n\u001b[32m    363\u001b[39m     \u001b[38;5;28;01mraise\u001b[39;00m e\n\u001b[32m    364\u001b[39m \u001b[38;5;28;01melse\u001b[39;00m:\n\u001b[32m--> \u001b[39m\u001b[32m365\u001b[39m     \u001b[38;5;28;01mraise\u001b[39;00m e.with_traceback(\u001b[38;5;28;01mNone\u001b[39;00m)\n",
      "\u001b[31mTypingError\u001b[39m: Failed in nopython mode pipeline (step: nopython frontend)\n\u001b[1m\u001b[1m\u001b[1mUse of unsupported NumPy function 'numpy.vectorize' or unsupported use of the function.\n\u001b[1m\nFile \"..\\..\\..\\..\\AppData\\Local\\Temp\\ipykernel_10840\\2453365944.py\", line 4:\u001b[0m\n\u001b[1m<source missing, REPL/exec in use?>\u001b[0m\n\u001b[0m\n\u001b[0m\u001b[1mDuring: typing of get attribute at C:\\Users\\rrrad\\AppData\\Local\\Temp\\ipykernel_10840\\2453365944.py (4)\u001b[0m\n\u001b[1m\nFile \"..\\..\\..\\..\\AppData\\Local\\Temp\\ipykernel_10840\\2453365944.py\", line 4:\u001b[0m\n\u001b[1m<source missing, REPL/exec in use?>\u001b[0m\n\n\u001b[0m\u001b[1mDuring: Pass nopython_type_inference\u001b[0m"
     ]
    }
   ],
   "source": [
    "from numba import njit,jit\n",
    "@jit\n",
    "def nb_vectorization(arr):\n",
    "    return np.vectorize(lambda x: x**2)(arr)\n",
    "d = nb_vectorization(array)"
   ]
  },
  {
   "cell_type": "code",
   "execution_count": 34,
   "id": "66f97086",
   "metadata": {},
   "outputs": [
    {
     "data": {
      "text/plain": [
       "array([[2.53673557e-01, 3.72383457e-01, 8.03838199e-01, ...,\n",
       "        3.20749318e-01, 2.83283284e-02, 8.84079921e-01],\n",
       "       [5.45539179e-02, 7.56843909e-01, 3.78396911e-02, ...,\n",
       "        1.13874231e-01, 9.83315305e-01, 4.24231230e-01],\n",
       "       [1.24779394e-01, 3.66872149e-01, 9.56524092e-01, ...,\n",
       "        1.11355136e-01, 4.90053012e-01, 1.55827303e-01],\n",
       "       ...,\n",
       "       [8.76361825e-02, 4.89493918e-01, 3.25288829e-02, ...,\n",
       "        7.70608169e-01, 4.51387533e-01, 8.45876773e-02],\n",
       "       [3.28854591e-01, 8.23935619e-05, 1.16044695e-01, ...,\n",
       "        1.17801314e-01, 2.41453658e-03, 2.88564883e-02],\n",
       "       [3.34345889e-01, 1.20674048e-01, 9.94064824e-01, ...,\n",
       "        9.78209299e-01, 4.76432988e-01, 8.64983213e-02]],\n",
       "      shape=(2000, 2000))"
      ]
     },
     "execution_count": 34,
     "metadata": {},
     "output_type": "execute_result"
    }
   ],
   "source": [
    "array2"
   ]
  },
  {
   "cell_type": "code",
   "execution_count": 38,
   "id": "9cbfb09c",
   "metadata": {},
   "outputs": [
    {
     "data": {
      "text/plain": [
       "array([[ 1.,  4.,  9.],\n",
       "       [16., 25., 36.]])"
      ]
     },
     "execution_count": 38,
     "metadata": {},
     "output_type": "execute_result"
    }
   ],
   "source": [
    "func_numba([[1,2,3],[4,5,6]]) # 30 ms"
   ]
  },
  {
   "cell_type": "code",
   "execution_count": 39,
   "id": "9c691f4e",
   "metadata": {},
   "outputs": [
    {
     "name": "stdout",
     "output_type": "stream",
     "text": [
      "151 ms ± 55.5 ms per loop (mean ± std. dev. of 7 runs, 1 loop each)\n",
      "128 ms ± 739 μs per loop (mean ± std. dev. of 7 runs, 10 loops each)\n"
     ]
    }
   ],
   "source": [
    "from numba import njit,jit\n",
    "@njit\n",
    "def myfunc(array):\n",
    "    return [[item**2 for item in line] for line in array]\n",
    "%timeit -n 1 myfunc(array) # 136 ms\n",
    "%timeit myfunc(array)\n",
    "# njit: 117, jit: 122, not a big difference"
   ]
  },
  {
   "cell_type": "code",
   "execution_count": 26,
   "id": "bab88a66",
   "metadata": {},
   "outputs": [
    {
     "name": "stdout",
     "output_type": "stream",
     "text": [
      "The slowest run took 8.06 times longer than the fastest. This could mean that an intermediate result is being cached.\n",
      "56.9 ms ± 66.9 ms per loop (mean ± std. dev. of 7 runs, 1 loop each)\n",
      "30.1 ms ± 344 μs per loop (mean ± std. dev. of 7 runs, 10 loops each)\n"
     ]
    }
   ],
   "source": [
    "@njit\n",
    "def myfunc2(array):\n",
    "    return [[item**2 for item in line] for line in array]\n",
    "@njit\n",
    "def myfunc(array):\n",
    "    myfunc2(array)\n",
    "%timeit -n 1 myfunc(array) # 136 ms\n",
    "%timeit myfunc(array)"
   ]
  },
  {
   "cell_type": "code",
   "execution_count": null,
   "id": "5099923a",
   "metadata": {},
   "outputs": [
    {
     "name": "stdout",
     "output_type": "stream",
     "text": [
      "The slowest run took 13.69 times longer than the fastest. This could mean that an intermediate result is being cached.\n",
      "81.7 ms ± 125 ms per loop (mean ± std. dev. of 7 runs, 1 loop each)\n",
      "30.5 ms ± 407 μs per loop (mean ± std. dev. of 7 runs, 10 loops each)\n"
     ]
    }
   ],
   "source": [
    "# triple numba\n",
    "@njit\n",
    "def myfunc(array):\n",
    "    return [[item**2 for item in line] for line in array]\n",
    "@njit\n",
    "def myfunc2(array):\n",
    "    myfunc(array)\n",
    "@njit\n",
    "def myfunc3(array):\n",
    "    myfunc2(array)\n",
    "@njit\n",
    "def myfunc4(array):\n",
    "    myfunc3(array)\n",
    "%timeit -n 1 myfunc4(array) # 136 ms\n",
    "%timeit myfunc4(array) # 30 ms limit, even when we double numba"
   ]
  },
  {
   "cell_type": "code",
   "execution_count": 33,
   "id": "28e300c8",
   "metadata": {},
   "outputs": [],
   "source": [
    "def myfunc(array,a,b):\n",
    "    return [[item**2 for item in line] for line in array]"
   ]
  },
  {
   "cell_type": "code",
   "execution_count": 34,
   "id": "498c227d",
   "metadata": {},
   "outputs": [],
   "source": [
    "f=jit(myfunc)"
   ]
  },
  {
   "cell_type": "code",
   "execution_count": 35,
   "id": "22c61564",
   "metadata": {},
   "outputs": [
    {
     "ename": "TypeError",
     "evalue": "not enough arguments: expected 3, got 1",
     "output_type": "error",
     "traceback": [
      "\u001b[31m---------------------------------------------------------------------------\u001b[39m",
      "\u001b[31mTypeError\u001b[39m                                 Traceback (most recent call last)",
      "\u001b[36mCell\u001b[39m\u001b[36m \u001b[39m\u001b[32mIn[35]\u001b[39m\u001b[32m, line 1\u001b[39m\n\u001b[32m----> \u001b[39m\u001b[32m1\u001b[39m \u001b[43mf\u001b[49m\u001b[43m(\u001b[49m\u001b[43mmyfunc\u001b[49m\u001b[43m)\u001b[49m\n",
      "\u001b[31mTypeError\u001b[39m: not enough arguments: expected 3, got 1"
     ]
    }
   ],
   "source": [
    "f(myfunc)"
   ]
  },
  {
   "cell_type": "code",
   "execution_count": 8,
   "id": "58922c8e",
   "metadata": {},
   "outputs": [
    {
     "name": "stdout",
     "output_type": "stream",
     "text": [
      "151 ms ± 42.2 ms per loop (mean ± std. dev. of 7 runs, 1 loop each)\n",
      "132 ms ± 994 μs per loop (mean ± std. dev. of 7 runs, 10 loops each)\n"
     ]
    }
   ],
   "source": [
    "# for\n",
    "@njit\n",
    "def myfunc(array):\n",
    "    array2 = []\n",
    "    for line in array:\n",
    "        line2 = []\n",
    "        for item in line:\n",
    "            line2.append(item**2)\n",
    "        array2.append(line2)\n",
    "    return array2\n",
    "\n",
    "%timeit -n 1 myfunc(array) # 136 ms\n",
    "%timeit myfunc(array)"
   ]
  },
  {
   "cell_type": "code",
   "execution_count": 18,
   "id": "e8a0a863",
   "metadata": {},
   "outputs": [
    {
     "name": "stdout",
     "output_type": "stream",
     "text": [
      "243 ms ± 102 ms per loop (mean ± std. dev. of 7 runs, 1 loop each)\n",
      "199 ms ± 12.4 ms per loop (mean ± std. dev. of 7 runs, 10 loops each)\n"
     ]
    }
   ],
   "source": [
    "\n",
    "\n",
    "@njit\n",
    "def myfunc(array):\n",
    "\n",
    "    return list(map(lambda x:x**2, array.flatten()))\n",
    "                    \n",
    "%timeit -n 1 myfunc(array) # 136 ms\n",
    "%timeit myfunc(array)"
   ]
  },
  {
   "cell_type": "code",
   "execution_count": 20,
   "id": "1e380387",
   "metadata": {},
   "outputs": [
    {
     "name": "stdout",
     "output_type": "stream",
     "text": [
      "203 ms ± 108 ms per loop (mean ± std. dev. of 7 runs, 1 loop each)\n",
      "158 ms ± 1.18 ms per loop (mean ± std. dev. of 7 runs, 10 loops each)\n"
     ]
    }
   ],
   "source": [
    "@njit\n",
    "def myfunc(array):\n",
    "    return [list(map(lambda x:x**2, line)) for line in array]\n",
    "%timeit -n 1 myfunc(array) # 136 ms\n",
    "%timeit myfunc(array)"
   ]
  },
  {
   "cell_type": "code",
   "execution_count": 6,
   "id": "a22e8f95",
   "metadata": {},
   "outputs": [
    {
     "name": "stdout",
     "output_type": "stream",
     "text": [
      "Defaulting to user installation because normal site-packages is not writeable\n",
      "Collecting setuptools\n",
      "  Using cached setuptools-80.9.0-py3-none-any.whl.metadata (6.6 kB)\n",
      "Collecting wheel\n",
      "  Downloading wheel-0.45.1-py3-none-any.whl.metadata (2.3 kB)\n",
      "Requirement already satisfied: cython in c:\\users\\rrrad\\appdata\\roaming\\python\\python313\\site-packages (3.1.2)\n",
      "Using cached setuptools-80.9.0-py3-none-any.whl (1.2 MB)\n",
      "Downloading wheel-0.45.1-py3-none-any.whl (72 kB)\n",
      "Installing collected packages: wheel, setuptools\n",
      "Successfully installed setuptools-80.9.0 wheel-0.45.1\n",
      "Note: you may need to restart the kernel to use updated packages.\n"
     ]
    },
    {
     "name": "stderr",
     "output_type": "stream",
     "text": [
      "\n",
      "[notice] A new release of pip is available: 25.0.1 -> 25.1.1\n",
      "[notice] To update, run: python.exe -m pip install --upgrade pip\n"
     ]
    }
   ],
   "source": [
    "%pip install --upgrade setuptools wheel cython\n"
   ]
  },
  {
   "cell_type": "code",
   "execution_count": 1,
   "id": "8af5d54c",
   "metadata": {},
   "outputs": [],
   "source": [
    "%load_ext cython\n"
   ]
  },
  {
   "cell_type": "code",
   "execution_count": null,
   "id": "3d8ad756",
   "metadata": {},
   "outputs": [
    {
     "data": {
      "text/plain": [
       "499999500000"
      ]
     },
     "execution_count": 4,
     "metadata": {},
     "output_type": "execute_result"
    }
   ],
   "source": [
    "def py_sum(n):\n",
    "    total = 0\n",
    "    for i in range(n):\n",
    "        total += i\n",
    "    return total\n"
   ]
  },
  {
   "cell_type": "code",
   "execution_count": 5,
   "id": "d3794868",
   "metadata": {},
   "outputs": [
    {
     "name": "stdout",
     "output_type": "stream",
     "text": [
      "Content of stdout:\n",
      "_cython_magic_15714d5140ee1eaa85042308fc9a4ea30c326702563f1939a1232e2e17881ce3.c\n",
      "   Creating library C:\\Users\\rrrad\\.ipython\\cython\\Users\\rrrad\\.ipython\\cython\\_cython_magic_15714d5140ee1eaa85042308fc9a4ea30c326702563f1939a1232e2e17881ce3.cp313-win_amd64.lib and object C:\\Users\\rrrad\\.ipython\\cython\\Users\\rrrad\\.ipython\\cython\\_cython_magic_15714d5140ee1eaa85042308fc9a4ea30c326702563f1939a1232e2e17881ce3.cp313-win_amd64.exp\n",
      "Generating code\n",
      "Finished generating code"
     ]
    }
   ],
   "source": [
    "%%cython\n",
    "def cy_sum(int n):\n",
    "    cdef int total = 0\n",
    "    cdef int i\n",
    "    for i in range(n):\n",
    "        total += i\n",
    "    return total\n"
   ]
  },
  {
   "cell_type": "code",
   "execution_count": 6,
   "id": "fbb708bc",
   "metadata": {},
   "outputs": [
    {
     "name": "stdout",
     "output_type": "stream",
     "text": [
      "30.2 ms ± 575 μs per loop (mean ± std. dev. of 7 runs, 10 loops each)\n",
      "239 μs ± 918 ns per loop (mean ± std. dev. of 7 runs, 1,000 loops each)\n"
     ]
    }
   ],
   "source": [
    "%timeit py_sum(10**6)\n",
    "%timeit cy_sum(10**6)\n"
   ]
  },
  {
   "cell_type": "code",
   "execution_count": 8,
   "id": "71bd7943",
   "metadata": {},
   "outputs": [
    {
     "name": "stdout",
     "output_type": "stream",
     "text": [
      "Content of stdout:\n",
      "_cython_magic_160768209b086ad2d9dce768b491c98790bccf537d9d0bd0d051c9e8d3122f0d.c\n",
      "   Creating library C:\\Users\\rrrad\\.ipython\\cython\\Users\\rrrad\\.ipython\\cython\\_cython_magic_160768209b086ad2d9dce768b491c98790bccf537d9d0bd0d051c9e8d3122f0d.cp313-win_amd64.lib and object C:\\Users\\rrrad\\.ipython\\cython\\Users\\rrrad\\.ipython\\cython\\_cython_magic_160768209b086ad2d9dce768b491c98790bccf537d9d0bd0d051c9e8d3122f0d.cp313-win_amd64.exp\n",
      "Generating code\n",
      "Finished generating code"
     ]
    }
   ],
   "source": [
    "%%cython\n",
    "def cy_list_comprehension(array):\n",
    "    return [[item**2 for item in line] for line in array]"
   ]
  },
  {
   "cell_type": "code",
   "execution_count": 11,
   "id": "1984dbf5",
   "metadata": {},
   "outputs": [],
   "source": [
    "def py_list_comprehension(array):\n",
    "    return [[item**2 for item in line] for line in array]"
   ]
  },
  {
   "cell_type": "code",
   "execution_count": 22,
   "id": "8eee3ad8",
   "metadata": {},
   "outputs": [
    {
     "name": "stdout",
     "output_type": "stream",
     "text": [
      "Content of stdout:\n",
      "_cython_magic_6c8a13b18e5585798d8029e7b68f30b09b03bf939933226f0d5bf53c0b3f04c5.c\n",
      "   Creating library C:\\Users\\rrrad\\.ipython\\cython\\Users\\rrrad\\.ipython\\cython\\_cython_magic_6c8a13b18e5585798d8029e7b68f30b09b03bf939933226f0d5bf53c0b3f04c5.cp313-win_amd64.lib and object C:\\Users\\rrrad\\.ipython\\cython\\Users\\rrrad\\.ipython\\cython\\_cython_magic_6c8a13b18e5585798d8029e7b68f30b09b03bf939933226f0d5bf53c0b3f04c5.cp313-win_amd64.exp\n",
      "Generating code\n",
      "Finished generating code"
     ]
    }
   ],
   "source": [
    "%%cython\n",
    "def cy_for_loop(array):\n",
    "    array2 = []\n",
    "    for line in array:\n",
    "        line2 = []\n",
    "        for item in line:\n",
    "            line2.append(item**2)\n",
    "        array2.append(line2)\n",
    "    return array2"
   ]
  },
  {
   "cell_type": "code",
   "execution_count": 25,
   "id": "a1c9066e",
   "metadata": {},
   "outputs": [
    {
     "name": "stdout",
     "output_type": "stream",
     "text": [
      "433 ms ± 19 ms per loop (mean ± std. dev. of 7 runs, 1 loop each)\n"
     ]
    }
   ],
   "source": [
    "\n",
    "%timeit cy_for_loop(array)"
   ]
  },
  {
   "cell_type": "code",
   "execution_count": 14,
   "id": "d3ab8420",
   "metadata": {},
   "outputs": [],
   "source": [
    "vectorized = np.vectorize(func)"
   ]
  },
  {
   "cell_type": "code",
   "execution_count": null,
   "id": "19d67efa",
   "metadata": {},
   "outputs": [],
   "source": [
    "cy_vectorization()"
   ]
  },
  {
   "cell_type": "code",
   "execution_count": 26,
   "id": "fdbcc95d",
   "metadata": {},
   "outputs": [
    {
     "name": "stdout",
     "output_type": "stream",
     "text": [
      "Defaulting to user installation because normal site-packages is not writeable\n",
      "Note: you may need to restart the kernel to use updated packages.\n"
     ]
    },
    {
     "name": "stderr",
     "output_type": "stream",
     "text": [
      "ERROR: Could not find a version that satisfies the requirement cProfile (from versions: none)\n",
      "\n",
      "[notice] A new release of pip is available: 25.0.1 -> 25.1.1\n",
      "[notice] To update, run: python.exe -m pip install --upgrade pip\n",
      "ERROR: No matching distribution found for cProfile\n"
     ]
    }
   ],
   "source": [
    "%pip install cProfile"
   ]
  },
  {
   "cell_type": "code",
   "execution_count": 46,
   "id": "3735bc1a",
   "metadata": {},
   "outputs": [
    {
     "data": {
      "text/plain": [
       "1"
      ]
     },
     "execution_count": 46,
     "metadata": {},
     "output_type": "execute_result"
    }
   ],
   "source": [
    "def a(b:str = \"\"):\n",
    "    return b\n",
    "\n",
    "a(1)\n"
   ]
  },
  {
   "cell_type": "code",
   "execution_count": 49,
   "id": "e08a3b5c",
   "metadata": {},
   "outputs": [
    {
     "data": {
      "text/plain": [
       "('ss.ssdd', '.', 'gg')"
      ]
     },
     "execution_count": 49,
     "metadata": {},
     "output_type": "execute_result"
    }
   ],
   "source": [
    "\"ss.ssdd.gg\".rpartition(\".\")"
   ]
  },
  {
   "cell_type": "code",
   "execution_count": 33,
   "id": "db2cf2ff",
   "metadata": {},
   "outputs": [],
   "source": [
    "import os\n",
    "import datetime\n",
    "st = os.stat(\"a\")"
   ]
  },
  {
   "cell_type": "code",
   "execution_count": 15,
   "id": "a594d4f4",
   "metadata": {},
   "outputs": [
    {
     "data": {
      "text/plain": [
       "1752256634.7375855"
      ]
     },
     "execution_count": 15,
     "metadata": {},
     "output_type": "execute_result"
    }
   ],
   "source": [
    "st.st_birthtime"
   ]
  },
  {
   "cell_type": "code",
   "execution_count": 201,
   "id": "67788ea8",
   "metadata": {},
   "outputs": [
    {
     "name": "stdout",
     "output_type": "stream",
     "text": [
      "ctime: 2025-07-11 19:57:14.737586\n",
      "mtime: 2025-07-11 20:07:56.227845\n",
      "atime: 2025-07-11 20:09:23.670758\n",
      "now  : 2025-07-11 20:09:34.971379\n",
      "The mtime of a directory reflects the last time its contents were modified (e.g., files added, removed, or renamed), not changes to the files inside. If you only modify files within the directory, the directory's mtime may not update.\n"
     ]
    }
   ],
   "source": [
    "st = os.stat(\"a\")\n",
    "print(f\"ctime: {datetime.datetime.fromtimestamp(st.st_birthtime)}\")\n",
    "print(f\"mtime: {datetime.datetime.fromtimestamp(st.st_mtime)}\")\n",
    "print(f\"atime: {datetime.datetime.fromtimestamp(st.st_atime)}\")\n",
    "print(f\"now  : {datetime.datetime.now()}\")\n",
    "print(\"The mtime of a directory reflects the last time its contents were modified (e.g., files added, removed, or renamed), not changes to the files inside. If you only modify files within the directory, the directory's mtime may not update.\")"
   ]
  },
  {
   "cell_type": "code",
   "execution_count": 121,
   "id": "e6c0a290",
   "metadata": {},
   "outputs": [
    {
     "data": {
      "text/plain": [
       "['b', 'de']"
      ]
     },
     "execution_count": 121,
     "metadata": {},
     "output_type": "execute_result"
    }
   ],
   "source": [
    "os.listdir(\"a\")"
   ]
  },
  {
   "cell_type": "code",
   "execution_count": 24,
   "id": "cc7e3f56",
   "metadata": {},
   "outputs": [
    {
     "name": "stdout",
     "output_type": "stream",
     "text": [
      "2025-07-11 20:02:03.070603\n",
      "now: 2025-07-11 20:02:03.070740\n"
     ]
    }
   ],
   "source": [
    "import time\n",
    "print(datetime.datetime.fromtimestamp(time.time()))\n",
    "print(f\"now: {datetime.datetime.now()}\")"
   ]
  }
 ],
 "metadata": {
  "kernelspec": {
   "display_name": "Python 3",
   "language": "python",
   "name": "python3"
  },
  "language_info": {
   "codemirror_mode": {
    "name": "ipython",
    "version": 3
   },
   "file_extension": ".py",
   "mimetype": "text/x-python",
   "name": "python",
   "nbconvert_exporter": "python",
   "pygments_lexer": "ipython3",
   "version": "3.13.3"
  }
 },
 "nbformat": 4,
 "nbformat_minor": 5
}
